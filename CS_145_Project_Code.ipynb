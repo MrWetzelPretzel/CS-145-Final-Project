{
  "nbformat": 4,
  "nbformat_minor": 0,
  "metadata": {
    "colab": {
      "provenance": [],
      "gpuType": "T4",
      "authorship_tag": "ABX9TyPPCYX5g0RP8b5LLGElAjNf",
      "include_colab_link": true
    },
    "kernelspec": {
      "name": "python3",
      "display_name": "Python 3"
    },
    "language_info": {
      "name": "python"
    }
  },
  "cells": [
    {
      "cell_type": "markdown",
      "metadata": {
        "id": "view-in-github",
        "colab_type": "text"
      },
      "source": [
        "<a href=\"https://colab.research.google.com/github/MrWetzelPretzel/CS-145-Final-Project/blob/main/CS_145_Project_Code.ipynb\" target=\"_parent\"><img src=\"https://colab.research.google.com/assets/colab-badge.svg\" alt=\"Open In Colab\"/></a>"
      ]
    },
    {
      "cell_type": "markdown",
      "source": [
        "Clone the Repo"
      ],
      "metadata": {
        "id": "xR6v_byUSIBF"
      }
    },
    {
      "cell_type": "code",
      "execution_count": null,
      "metadata": {
        "colab": {
          "base_uri": "https://localhost:8080/"
        },
        "id": "o14poCEFK84q",
        "outputId": "b1ddd484-f402-4ffc-eb89-a3db3fa5430c"
      },
      "outputs": [
        {
          "output_type": "stream",
          "name": "stdout",
          "text": [
            "Cloning into 'CS-145-Final-Project'...\n",
            "remote: Enumerating objects: 39, done.\u001b[K\n",
            "remote: Counting objects: 100% (39/39), done.\u001b[K\n",
            "remote: Compressing objects: 100% (38/38), done.\u001b[K\n",
            "remote: Total 39 (delta 11), reused 0 (delta 0), pack-reused 0\u001b[K\n",
            "Receiving objects: 100% (39/39), 15.23 KiB | 5.08 MiB/s, done.\n",
            "Resolving deltas: 100% (11/11), done.\n",
            "CS-145-Final-Project  sample_data\n"
          ]
        }
      ],
      "source": [
        "!git clone https://github.com/MrWetzelPretzel/CS-145-Final-Project.git\n",
        "!ls"
      ]
    },
    {
      "cell_type": "code",
      "source": [
        "%cd CS-145-Final-Project/'GCN Model'\n",
        "!ls\n"
      ],
      "metadata": {
        "colab": {
          "base_uri": "https://localhost:8080/"
        },
        "id": "fkFQrqS_6URR",
        "outputId": "05abda7a-ecf6-4387-835d-25240fc022fb"
      },
      "execution_count": null,
      "outputs": [
        {
          "output_type": "stream",
          "name": "stdout",
          "text": [
            "/content/CS-145-Final-Project/GCN Model\n",
            "models.py  requirements.txt  train.py  utils.py\n"
          ]
        }
      ]
    },
    {
      "cell_type": "markdown",
      "source": [
        "Install the requirements\n"
      ],
      "metadata": {
        "id": "ePdVG1gzSLHa"
      }
    },
    {
      "cell_type": "code",
      "source": [
        "!pip install -r requirements.txt"
      ],
      "metadata": {
        "colab": {
          "base_uri": "https://localhost:8080/"
        },
        "id": "RSO7DGuFNN_j",
        "outputId": "4013462a-25a8-4711-a1fe-816f5d5b31bf"
      },
      "execution_count": null,
      "outputs": [
        {
          "output_type": "stream",
          "name": "stdout",
          "text": [
            "Collecting scikit_learn==1.2.0 (from -r requirements.txt (line 1))\n",
            "  Downloading scikit_learn-1.2.0-cp310-cp310-manylinux_2_17_x86_64.manylinux2014_x86_64.whl (9.5 MB)\n",
            "\u001b[2K     \u001b[90m━━━━━━━━━━━━━━━━━━━━━━━━━━━━━━━━━━━━━━━━\u001b[0m \u001b[32m9.5/9.5 MB\u001b[0m \u001b[31m46.0 MB/s\u001b[0m eta \u001b[36m0:00:00\u001b[0m\n",
            "\u001b[?25hCollecting torch_geometric==2.5.2 (from -r requirements.txt (line 2))\n",
            "  Downloading torch_geometric-2.5.2-py3-none-any.whl (1.1 MB)\n",
            "\u001b[2K     \u001b[90m━━━━━━━━━━━━━━━━━━━━━━━━━━━━━━━━━━━━━━━━\u001b[0m \u001b[32m1.1/1.1 MB\u001b[0m \u001b[31m53.9 MB/s\u001b[0m eta \u001b[36m0:00:00\u001b[0m\n",
            "\u001b[?25hCollecting tqdm==4.66.1 (from -r requirements.txt (line 3))\n",
            "  Downloading tqdm-4.66.1-py3-none-any.whl (78 kB)\n",
            "\u001b[2K     \u001b[90m━━━━━━━━━━━━━━━━━━━━━━━━━━━━━━━━━━━━━━━━\u001b[0m \u001b[32m78.3/78.3 kB\u001b[0m \u001b[31m12.6 MB/s\u001b[0m eta \u001b[36m0:00:00\u001b[0m\n",
            "\u001b[?25hCollecting transformers==4.39.1 (from -r requirements.txt (line 4))\n",
            "  Downloading transformers-4.39.1-py3-none-any.whl (8.8 MB)\n",
            "\u001b[2K     \u001b[90m━━━━━━━━━━━━━━━━━━━━━━━━━━━━━━━━━━━━━━━━\u001b[0m \u001b[32m8.8/8.8 MB\u001b[0m \u001b[31m46.8 MB/s\u001b[0m eta \u001b[36m0:00:00\u001b[0m\n",
            "\u001b[?25hCollecting Unidecode==1.3.8 (from -r requirements.txt (line 5))\n",
            "  Downloading Unidecode-1.3.8-py3-none-any.whl (235 kB)\n",
            "\u001b[2K     \u001b[90m━━━━━━━━━━━━━━━━━━━━━━━━━━━━━━━━━━━━━━━━\u001b[0m \u001b[32m235.5/235.5 kB\u001b[0m \u001b[31m30.7 MB/s\u001b[0m eta \u001b[36m0:00:00\u001b[0m\n",
            "\u001b[?25hRequirement already satisfied: numpy>=1.17.3 in /usr/local/lib/python3.10/dist-packages (from scikit_learn==1.2.0->-r requirements.txt (line 1)) (1.25.2)\n",
            "Requirement already satisfied: scipy>=1.3.2 in /usr/local/lib/python3.10/dist-packages (from scikit_learn==1.2.0->-r requirements.txt (line 1)) (1.11.4)\n",
            "Requirement already satisfied: joblib>=1.1.1 in /usr/local/lib/python3.10/dist-packages (from scikit_learn==1.2.0->-r requirements.txt (line 1)) (1.4.2)\n",
            "Requirement already satisfied: threadpoolctl>=2.0.0 in /usr/local/lib/python3.10/dist-packages (from scikit_learn==1.2.0->-r requirements.txt (line 1)) (3.5.0)\n",
            "Requirement already satisfied: fsspec in /usr/local/lib/python3.10/dist-packages (from torch_geometric==2.5.2->-r requirements.txt (line 2)) (2023.6.0)\n",
            "Requirement already satisfied: jinja2 in /usr/local/lib/python3.10/dist-packages (from torch_geometric==2.5.2->-r requirements.txt (line 2)) (3.1.4)\n",
            "Requirement already satisfied: aiohttp in /usr/local/lib/python3.10/dist-packages (from torch_geometric==2.5.2->-r requirements.txt (line 2)) (3.9.5)\n",
            "Requirement already satisfied: requests in /usr/local/lib/python3.10/dist-packages (from torch_geometric==2.5.2->-r requirements.txt (line 2)) (2.31.0)\n",
            "Requirement already satisfied: pyparsing in /usr/local/lib/python3.10/dist-packages (from torch_geometric==2.5.2->-r requirements.txt (line 2)) (3.1.2)\n",
            "Requirement already satisfied: psutil>=5.8.0 in /usr/local/lib/python3.10/dist-packages (from torch_geometric==2.5.2->-r requirements.txt (line 2)) (5.9.5)\n",
            "Requirement already satisfied: filelock in /usr/local/lib/python3.10/dist-packages (from transformers==4.39.1->-r requirements.txt (line 4)) (3.14.0)\n",
            "Requirement already satisfied: huggingface-hub<1.0,>=0.19.3 in /usr/local/lib/python3.10/dist-packages (from transformers==4.39.1->-r requirements.txt (line 4)) (0.23.2)\n",
            "Requirement already satisfied: packaging>=20.0 in /usr/local/lib/python3.10/dist-packages (from transformers==4.39.1->-r requirements.txt (line 4)) (24.0)\n",
            "Requirement already satisfied: pyyaml>=5.1 in /usr/local/lib/python3.10/dist-packages (from transformers==4.39.1->-r requirements.txt (line 4)) (6.0.1)\n",
            "Requirement already satisfied: regex!=2019.12.17 in /usr/local/lib/python3.10/dist-packages (from transformers==4.39.1->-r requirements.txt (line 4)) (2024.5.15)\n",
            "Collecting tokenizers<0.19,>=0.14 (from transformers==4.39.1->-r requirements.txt (line 4))\n",
            "  Downloading tokenizers-0.15.2-cp310-cp310-manylinux_2_17_x86_64.manylinux2014_x86_64.whl (3.6 MB)\n",
            "\u001b[2K     \u001b[90m━━━━━━━━━━━━━━━━━━━━━━━━━━━━━━━━━━━━━━━━\u001b[0m \u001b[32m3.6/3.6 MB\u001b[0m \u001b[31m103.7 MB/s\u001b[0m eta \u001b[36m0:00:00\u001b[0m\n",
            "\u001b[?25hRequirement already satisfied: safetensors>=0.4.1 in /usr/local/lib/python3.10/dist-packages (from transformers==4.39.1->-r requirements.txt (line 4)) (0.4.3)\n",
            "Requirement already satisfied: typing-extensions>=3.7.4.3 in /usr/local/lib/python3.10/dist-packages (from huggingface-hub<1.0,>=0.19.3->transformers==4.39.1->-r requirements.txt (line 4)) (4.12.0)\n",
            "Requirement already satisfied: aiosignal>=1.1.2 in /usr/local/lib/python3.10/dist-packages (from aiohttp->torch_geometric==2.5.2->-r requirements.txt (line 2)) (1.3.1)\n",
            "Requirement already satisfied: attrs>=17.3.0 in /usr/local/lib/python3.10/dist-packages (from aiohttp->torch_geometric==2.5.2->-r requirements.txt (line 2)) (23.2.0)\n",
            "Requirement already satisfied: frozenlist>=1.1.1 in /usr/local/lib/python3.10/dist-packages (from aiohttp->torch_geometric==2.5.2->-r requirements.txt (line 2)) (1.4.1)\n",
            "Requirement already satisfied: multidict<7.0,>=4.5 in /usr/local/lib/python3.10/dist-packages (from aiohttp->torch_geometric==2.5.2->-r requirements.txt (line 2)) (6.0.5)\n",
            "Requirement already satisfied: yarl<2.0,>=1.0 in /usr/local/lib/python3.10/dist-packages (from aiohttp->torch_geometric==2.5.2->-r requirements.txt (line 2)) (1.9.4)\n",
            "Requirement already satisfied: async-timeout<5.0,>=4.0 in /usr/local/lib/python3.10/dist-packages (from aiohttp->torch_geometric==2.5.2->-r requirements.txt (line 2)) (4.0.3)\n",
            "Requirement already satisfied: MarkupSafe>=2.0 in /usr/local/lib/python3.10/dist-packages (from jinja2->torch_geometric==2.5.2->-r requirements.txt (line 2)) (2.1.5)\n",
            "Requirement already satisfied: charset-normalizer<4,>=2 in /usr/local/lib/python3.10/dist-packages (from requests->torch_geometric==2.5.2->-r requirements.txt (line 2)) (3.3.2)\n",
            "Requirement already satisfied: idna<4,>=2.5 in /usr/local/lib/python3.10/dist-packages (from requests->torch_geometric==2.5.2->-r requirements.txt (line 2)) (3.7)\n",
            "Requirement already satisfied: urllib3<3,>=1.21.1 in /usr/local/lib/python3.10/dist-packages (from requests->torch_geometric==2.5.2->-r requirements.txt (line 2)) (2.0.7)\n",
            "Requirement already satisfied: certifi>=2017.4.17 in /usr/local/lib/python3.10/dist-packages (from requests->torch_geometric==2.5.2->-r requirements.txt (line 2)) (2024.2.2)\n",
            "Installing collected packages: Unidecode, tqdm, scikit_learn, torch_geometric, tokenizers, transformers\n",
            "  Attempting uninstall: tqdm\n",
            "    Found existing installation: tqdm 4.66.4\n",
            "    Uninstalling tqdm-4.66.4:\n",
            "      Successfully uninstalled tqdm-4.66.4\n",
            "  Attempting uninstall: scikit_learn\n",
            "    Found existing installation: scikit-learn 1.2.2\n",
            "    Uninstalling scikit-learn-1.2.2:\n",
            "      Successfully uninstalled scikit-learn-1.2.2\n",
            "  Attempting uninstall: tokenizers\n",
            "    Found existing installation: tokenizers 0.19.1\n",
            "    Uninstalling tokenizers-0.19.1:\n",
            "      Successfully uninstalled tokenizers-0.19.1\n",
            "  Attempting uninstall: transformers\n",
            "    Found existing installation: transformers 4.41.1\n",
            "    Uninstalling transformers-4.41.1:\n",
            "      Successfully uninstalled transformers-4.41.1\n",
            "\u001b[31mERROR: pip's dependency resolver does not currently take into account all the packages that are installed. This behaviour is the source of the following dependency conflicts.\n",
            "bigframes 1.6.0 requires scikit-learn>=1.2.2, but you have scikit-learn 1.2.0 which is incompatible.\u001b[0m\u001b[31m\n",
            "\u001b[0mSuccessfully installed Unidecode-1.3.8 scikit_learn-1.2.0 tokenizers-0.15.2 torch_geometric-2.5.2 tqdm-4.66.1 transformers-4.39.1\n"
          ]
        }
      ]
    },
    {
      "cell_type": "markdown",
      "source": [
        "Download the training data and validation data\n"
      ],
      "metadata": {
        "id": "Cb456VRcSOqP"
      }
    },
    {
      "cell_type": "code",
      "source": [
        "!wget https://www.dropbox.com/scl/fi/j7rqvgrb0w9e2hapkbbqw/valid.pkl?rlkey=mcwh6b1ia7mfkmns37id6fcdl&st=kf9xt1k0&dl=0\n",
        "!wget https://www.dropbox.com/scl/fi/1p90y15gx3e2tonlqvyug/train.pkl?rlkey=8l89tfwokzu9556iyybu0f7o1&st=3fucc06g&dl=0"
      ],
      "metadata": {
        "colab": {
          "base_uri": "https://localhost:8080/"
        },
        "id": "P2wv8lo1Kb-Y",
        "outputId": "6bd2dbbd-fcb7-4a29-d885-3fe22cb1e0ea"
      },
      "execution_count": null,
      "outputs": [
        {
          "output_type": "stream",
          "name": "stdout",
          "text": [
            "--2024-06-04 03:17:55--  https://www.dropbox.com/scl/fi/j7rqvgrb0w9e2hapkbbqw/valid.pkl?rlkey=mcwh6b1ia7mfkmns37id6fcdl\n",
            "Resolving www.dropbox.com (www.dropbox.com)... 162.125.81.18, 2620:100:6031:18::a27d:5112\n",
            "Connecting to www.dropbox.com (www.dropbox.com)|162.125.81.18|:443... connected.\n",
            "HTTP request sent, awaiting response... 302 Found\n",
            "Location: https://uc11fec855afbc1f86b6b2a1b5d3.dl.dropboxusercontent.com/cd/0/inline/CUK1Wqd_7yd7p3_gT5AxyyKxQEfwePbGXxxUeE_31Fu8afBMM2UTzI89ANdYX6yixFZUgYCywc2VZf6M9tqQcwPbFwc3TQwFBNRctC3bLdA45Jctxse2TDz2SOEZfNfm3Xc5UiyMo94JVOU9WVLJaZSi/file# [following]\n",
            "--2024-06-04 03:17:56--  https://uc11fec855afbc1f86b6b2a1b5d3.dl.dropboxusercontent.com/cd/0/inline/CUK1Wqd_7yd7p3_gT5AxyyKxQEfwePbGXxxUeE_31Fu8afBMM2UTzI89ANdYX6yixFZUgYCywc2VZf6M9tqQcwPbFwc3TQwFBNRctC3bLdA45Jctxse2TDz2SOEZfNfm3Xc5UiyMo94JVOU9WVLJaZSi/file\n",
            "Resolving uc11fec855afbc1f86b6b2a1b5d3.dl.dropboxusercontent.com (uc11fec855afbc1f86b6b2a1b5d3.dl.dropboxusercontent.com)... 162.125.81.15, 2620:100:6031:15::a27d:510f\n",
            "Connecting to uc11fec855afbc1f86b6b2a1b5d3.dl.dropboxusercontent.com (uc11fec855afbc1f86b6b2a1b5d3.dl.dropboxusercontent.com)|162.125.81.15|:443... connected.\n",
            "HTTP request sent, awaiting response... 302 Found\n",
            "Location: /cd/0/inline2/CUJcpnz7uIyp1nBj9lSCpLVi84fofF7GVaFWtYZmgpfLGomrV8g2UlNu6sqhDW8Vi8TSxyzdAMthoWPZvMvgzyhwFmZphzx6uxvl2ceHt54i7r3mWC2QRL5UU4Vg_CIl8W5XaYeeoDtPely4XIaiASwaERzQw9D5cIJnSFrsMDz19-go0x4qkBnFP4LUOZn-xd4VlVAhGROO8FAy4ClVlTS-IOY6-ExCoMUO83vieyctoJS1NMuYgxkj2QcGH1cDdGQJNJ4nz2oS73BRw5GA6a83PYuok5OgsGEHaQ0qbpKmz1NxTMPk91M2gdGnmtIKghl3Pqs5B4zEnX_LicK-23vVtXi8T6YbByt4aM0zV5aQtjdm83AUppfhIm43em6N5y0/file [following]\n",
            "--2024-06-04 03:17:57--  https://uc11fec855afbc1f86b6b2a1b5d3.dl.dropboxusercontent.com/cd/0/inline2/CUJcpnz7uIyp1nBj9lSCpLVi84fofF7GVaFWtYZmgpfLGomrV8g2UlNu6sqhDW8Vi8TSxyzdAMthoWPZvMvgzyhwFmZphzx6uxvl2ceHt54i7r3mWC2QRL5UU4Vg_CIl8W5XaYeeoDtPely4XIaiASwaERzQw9D5cIJnSFrsMDz19-go0x4qkBnFP4LUOZn-xd4VlVAhGROO8FAy4ClVlTS-IOY6-ExCoMUO83vieyctoJS1NMuYgxkj2QcGH1cDdGQJNJ4nz2oS73BRw5GA6a83PYuok5OgsGEHaQ0qbpKmz1NxTMPk91M2gdGnmtIKghl3Pqs5B4zEnX_LicK-23vVtXi8T6YbByt4aM0zV5aQtjdm83AUppfhIm43em6N5y0/file\n",
            "Reusing existing connection to uc11fec855afbc1f86b6b2a1b5d3.dl.dropboxusercontent.com:443.\n",
            "HTTP request sent, awaiting response... 200 OK\n",
            "Length: 509448601 (486M) [application/octet-stream]\n",
            "Saving to: ‘valid.pkl?rlkey=mcwh6b1ia7mfkmns37id6fcdl’\n",
            "\n",
            "valid.pkl?rlkey=mcw 100%[===================>] 485.85M  22.4MB/s    in 23s     \n",
            "\n",
            "2024-06-04 03:18:20 (21.4 MB/s) - ‘valid.pkl?rlkey=mcwh6b1ia7mfkmns37id6fcdl’ saved [509448601/509448601]\n",
            "\n",
            "--2024-06-04 03:18:20--  https://www.dropbox.com/scl/fi/1p90y15gx3e2tonlqvyug/train.pkl?rlkey=8l89tfwokzu9556iyybu0f7o1\n",
            "Resolving www.dropbox.com (www.dropbox.com)... 162.125.81.18, 2620:100:6031:18::a27d:5112\n",
            "Connecting to www.dropbox.com (www.dropbox.com)|162.125.81.18|:443... connected.\n",
            "HTTP request sent, awaiting response... 302 Found\n",
            "Location: https://uc95cb6877f1d45196ecada1a6a0.dl.dropboxusercontent.com/cd/0/inline/CUIAlwyjmxxCOkHTmUZYtwKsPr-PKknoFk7nylOw3rJ-QMtN-ZwKgXSLLaD1zKbL8GWJ83hMRiVA5bWVn_iAE8XD73r5O6Hl8jFsm0jXHeqSUYI6WbGmil1xOGqhneXw5w4_OuhCg__grAwh1oKM1v_R/file# [following]\n",
            "--2024-06-04 03:18:21--  https://uc95cb6877f1d45196ecada1a6a0.dl.dropboxusercontent.com/cd/0/inline/CUIAlwyjmxxCOkHTmUZYtwKsPr-PKknoFk7nylOw3rJ-QMtN-ZwKgXSLLaD1zKbL8GWJ83hMRiVA5bWVn_iAE8XD73r5O6Hl8jFsm0jXHeqSUYI6WbGmil1xOGqhneXw5w4_OuhCg__grAwh1oKM1v_R/file\n",
            "Resolving uc95cb6877f1d45196ecada1a6a0.dl.dropboxusercontent.com (uc95cb6877f1d45196ecada1a6a0.dl.dropboxusercontent.com)... 162.125.81.15, 2620:100:6031:15::a27d:510f\n",
            "Connecting to uc95cb6877f1d45196ecada1a6a0.dl.dropboxusercontent.com (uc95cb6877f1d45196ecada1a6a0.dl.dropboxusercontent.com)|162.125.81.15|:443... connected.\n",
            "HTTP request sent, awaiting response... 302 Found\n",
            "Location: /cd/0/inline2/CUJZ2jPiT-4MFzOamnf6PzVUabF52BAz6TCZNRErkzjxUsHZUPFKXMeCuTOy2vlXzRT-N3fwVfoMRuVZk252xX3oKVBgfVzfacEDFni3-Q0ATIiSyDXx324kSoNCRAsPEYnysP3kYv4YHEipBG3tMuDYP8N9Y1MoiOmF1DyRWgzAj5rzHW2hQds2ZoYsV26C_W4HOhVqHSHolz6sYZo0qGg_52qKdqy-YQ35x-Pl02Saum8q7PIMVv1-h6p0xsyG41045rt-dqIPza87tJAQjoKAV92i1wyncAVqQbnLhlRKHVMrCObjLqG8uGFIP89q00Wi9zpije5k7CNK8zvoTTpOK8XHCGFMAySWTbagAF5Zn1eJ-KJBiPjDBluegF508_E/file [following]\n",
            "--2024-06-04 03:18:22--  https://uc95cb6877f1d45196ecada1a6a0.dl.dropboxusercontent.com/cd/0/inline2/CUJZ2jPiT-4MFzOamnf6PzVUabF52BAz6TCZNRErkzjxUsHZUPFKXMeCuTOy2vlXzRT-N3fwVfoMRuVZk252xX3oKVBgfVzfacEDFni3-Q0ATIiSyDXx324kSoNCRAsPEYnysP3kYv4YHEipBG3tMuDYP8N9Y1MoiOmF1DyRWgzAj5rzHW2hQds2ZoYsV26C_W4HOhVqHSHolz6sYZo0qGg_52qKdqy-YQ35x-Pl02Saum8q7PIMVv1-h6p0xsyG41045rt-dqIPza87tJAQjoKAV92i1wyncAVqQbnLhlRKHVMrCObjLqG8uGFIP89q00Wi9zpije5k7CNK8zvoTTpOK8XHCGFMAySWTbagAF5Zn1eJ-KJBiPjDBluegF508_E/file\n",
            "Reusing existing connection to uc95cb6877f1d45196ecada1a6a0.dl.dropboxusercontent.com:443.\n",
            "HTTP request sent, awaiting response... 200 OK\n",
            "Length: 1527584514 (1.4G) [application/octet-stream]\n",
            "Saving to: ‘train.pkl?rlkey=8l89tfwokzu9556iyybu0f7o1’\n",
            "\n",
            "train.pkl?rlkey=8l8 100%[===================>]   1.42G  20.4MB/s    in 73s     \n",
            "\n",
            "2024-06-04 03:19:36 (19.9 MB/s) - ‘train.pkl?rlkey=8l89tfwokzu9556iyybu0f7o1’ saved [1527584514/1527584514]\n",
            "\n"
          ]
        }
      ]
    },
    {
      "cell_type": "code",
      "source": [
        "!ls"
      ],
      "metadata": {
        "colab": {
          "base_uri": "https://localhost:8080/"
        },
        "id": "w8IL8wlDMCcj",
        "outputId": "f85cb0cb-0048-4c85-8c8c-3049183c3f40"
      },
      "execution_count": null,
      "outputs": [
        {
          "output_type": "stream",
          "name": "stdout",
          "text": [
            " models.py\t\t\t\t      train.py\n",
            " requirements.txt\t\t\t      utils.py\n",
            "'train.pkl?rlkey=8l89tfwokzu9556iyybu0f7o1'  'valid.pkl?rlkey=mcwh6b1ia7mfkmns37id6fcdl'\n"
          ]
        }
      ]
    },
    {
      "cell_type": "code",
      "source": [
        "!mv 'train.pkl?rlkey=8l89tfwokzu9556iyybu0f7o1' train.pkl\n",
        "!mv 'valid.pkl?rlkey=mcwh6b1ia7mfkmns37id6fcdl' valid.pkl"
      ],
      "metadata": {
        "id": "Yd5cLvmB4rZd"
      },
      "execution_count": null,
      "outputs": []
    },
    {
      "cell_type": "markdown",
      "source": [
        "Running the code"
      ],
      "metadata": {
        "id": "B9rJXr0HR5fl"
      }
    },
    {
      "cell_type": "code",
      "source": [
        "!python train.py --train_dir train.pkl --test_dir valid.pkl"
      ],
      "metadata": {
        "colab": {
          "base_uri": "https://localhost:8080/"
        },
        "id": "jTIGVybzLY-a",
        "outputId": "87cb334a-6256-48d3-97d1-3cbea945dd05"
      },
      "execution_count": null,
      "outputs": [
        {
          "output_type": "stream",
          "name": "stdout",
          "text": [
            "[2024-06-04 03:23:09] {train.py:68} INFO - Namespace(train_dir='train.pkl', eval_dir=None, test_dir='valid.pkl', saved_dir='saved_model', log_name='log', epochs=100, seed=1, lr=0.0007109804581479025, min_lr=0.0001, bs=19, input_dim=768, output_dim=768, verbose=1, usecoo=False, usecov=False, threshold=0)\n",
            "[2024-06-04 03:23:13] {train.py:86} INFO - # Batch: 545 - 28.68421052631579\n",
            "[2024-06-04 03:23:13] {train.py:94} INFO - max_step: 286, 545, 19, 100\n",
            "100% 545/545 [00:06<00:00, 78.57it/s] \n",
            "[2024-06-04 03:23:19] {train.py:147} INFO - Epoch:0 Overall loss: 0.235709 \n",
            "100% 234/234 [00:01<00:00, 157.24it/s]\n",
            "[2024-06-04 03:23:21] {train.py:192} INFO - Epoch: 0 Auc: 0.489202 Maps: 0.664740 Max-Auc: -1.000000 Max-Maps: -1.000000\n",
            "[2024-06-04 03:23:21] {train.py:203} INFO - ***************** Epoch: 0 Max Auc: 0.489202 Maps: 0.664740 *******************\n",
            "100% 545/545 [00:05<00:00, 97.71it/s] \n",
            "[2024-06-04 03:23:27] {train.py:147} INFO - Epoch:1 Overall loss: 0.199082 \n",
            "100% 234/234 [00:01<00:00, 174.35it/s]\n",
            "[2024-06-04 03:23:29] {train.py:192} INFO - Epoch: 1 Auc: 0.488423 Maps: 0.663795 Max-Auc: 0.489202 Max-Maps: 0.664740\n",
            "100% 545/545 [00:04<00:00, 111.73it/s]\n",
            "[2024-06-04 03:23:34] {train.py:147} INFO - Epoch:2 Overall loss: 0.189417 \n",
            "100% 234/234 [00:01<00:00, 180.59it/s]\n",
            "[2024-06-04 03:23:35] {train.py:192} INFO - Epoch: 2 Auc: 0.523244 Maps: 0.677252 Max-Auc: 0.489202 Max-Maps: 0.664740\n",
            "[2024-06-04 03:23:35] {train.py:203} INFO - ***************** Epoch: 2 Max Auc: 0.523244 Maps: 0.677252 *******************\n",
            "100% 545/545 [00:05<00:00, 95.70it/s] \n",
            "[2024-06-04 03:23:41] {train.py:147} INFO - Epoch:3 Overall loss: 0.186462 \n",
            "100% 234/234 [00:01<00:00, 168.78it/s]\n",
            "[2024-06-04 03:23:43] {train.py:192} INFO - Epoch: 3 Auc: 0.537498 Maps: 0.682381 Max-Auc: 0.523244 Max-Maps: 0.677252\n",
            "[2024-06-04 03:23:43] {train.py:203} INFO - ***************** Epoch: 3 Max Auc: 0.537498 Maps: 0.682381 *******************\n",
            "100% 545/545 [00:04<00:00, 110.00it/s]\n",
            "[2024-06-04 03:23:48] {train.py:147} INFO - Epoch:4 Overall loss: 0.185576 \n",
            "100% 234/234 [00:01<00:00, 155.72it/s]\n",
            "[2024-06-04 03:23:50] {train.py:192} INFO - Epoch: 4 Auc: 0.545192 Maps: 0.681136 Max-Auc: 0.537498 Max-Maps: 0.682381\n",
            "[2024-06-04 03:23:50] {train.py:203} INFO - ***************** Epoch: 4 Max Auc: 0.545192 Maps: 0.682381 *******************\n",
            "100% 545/545 [00:05<00:00, 105.61it/s]\n",
            "[2024-06-04 03:23:55] {train.py:147} INFO - Epoch:5 Overall loss: 0.183184 \n",
            "100% 234/234 [00:01<00:00, 177.21it/s]\n",
            "[2024-06-04 03:23:57] {train.py:192} INFO - Epoch: 5 Auc: 0.549325 Maps: 0.682175 Max-Auc: 0.545192 Max-Maps: 0.682381\n",
            "[2024-06-04 03:23:57] {train.py:203} INFO - ***************** Epoch: 5 Max Auc: 0.549325 Maps: 0.682381 *******************\n",
            "100% 545/545 [00:05<00:00, 107.86it/s]\n",
            "[2024-06-04 03:24:02] {train.py:147} INFO - Epoch:6 Overall loss: 0.181530 \n",
            "100% 234/234 [00:01<00:00, 148.70it/s]\n",
            "[2024-06-04 03:24:04] {train.py:192} INFO - Epoch: 6 Auc: 0.550708 Maps: 0.682097 Max-Auc: 0.549325 Max-Maps: 0.682381\n",
            "[2024-06-04 03:24:04] {train.py:203} INFO - ***************** Epoch: 6 Max Auc: 0.550708 Maps: 0.682381 *******************\n",
            "100% 545/545 [00:04<00:00, 111.21it/s]\n",
            "[2024-06-04 03:24:09] {train.py:147} INFO - Epoch:7 Overall loss: 0.181952 \n",
            "100% 234/234 [00:01<00:00, 176.29it/s]\n",
            "[2024-06-04 03:24:10] {train.py:192} INFO - Epoch: 7 Auc: 0.544258 Maps: 0.675316 Max-Auc: 0.550708 Max-Maps: 0.682381\n",
            "100% 545/545 [00:05<00:00, 102.19it/s]\n",
            "[2024-06-04 03:24:16] {train.py:147} INFO - Epoch:8 Overall loss: 0.178767 \n",
            "100% 234/234 [00:01<00:00, 161.27it/s]\n",
            "[2024-06-04 03:24:17] {train.py:192} INFO - Epoch: 8 Auc: 0.550517 Maps: 0.680312 Max-Auc: 0.550708 Max-Maps: 0.682381\n",
            "100% 545/545 [00:04<00:00, 109.76it/s]\n",
            "[2024-06-04 03:24:22] {train.py:147} INFO - Epoch:9 Overall loss: 0.175456 \n",
            "100% 234/234 [00:01<00:00, 172.46it/s]\n",
            "[2024-06-04 03:24:24] {train.py:192} INFO - Epoch: 9 Auc: 0.567131 Maps: 0.690919 Max-Auc: 0.550708 Max-Maps: 0.682381\n",
            "[2024-06-04 03:24:24] {train.py:203} INFO - ***************** Epoch: 9 Max Auc: 0.567131 Maps: 0.690919 *******************\n",
            "100% 545/545 [00:05<00:00, 97.63it/s] \n",
            "[2024-06-04 03:24:30] {train.py:147} INFO - Epoch:10 Overall loss: 0.174993 \n",
            "100% 234/234 [00:01<00:00, 177.06it/s]\n",
            "[2024-06-04 03:24:31] {train.py:192} INFO - Epoch: 10 Auc: 0.573845 Maps: 0.696871 Max-Auc: 0.567131 Max-Maps: 0.690919\n",
            "[2024-06-04 03:24:31] {train.py:203} INFO - ***************** Epoch: 10 Max Auc: 0.573845 Maps: 0.696871 *******************\n",
            "100% 545/545 [00:04<00:00, 111.93it/s]\n",
            "[2024-06-04 03:24:36] {train.py:147} INFO - Epoch:11 Overall loss: 0.175230 \n",
            "100% 234/234 [00:01<00:00, 174.61it/s]\n",
            "[2024-06-04 03:24:38] {train.py:192} INFO - Epoch: 11 Auc: 0.598772 Maps: 0.712051 Max-Auc: 0.573845 Max-Maps: 0.696871\n",
            "[2024-06-04 03:24:38] {train.py:203} INFO - ***************** Epoch: 11 Max Auc: 0.598772 Maps: 0.712051 *******************\n",
            "100% 545/545 [00:05<00:00, 94.76it/s] \n",
            "[2024-06-04 03:24:44] {train.py:147} INFO - Epoch:12 Overall loss: 0.175372 \n",
            "100% 234/234 [00:01<00:00, 174.48it/s]\n",
            "[2024-06-04 03:24:45] {train.py:192} INFO - Epoch: 12 Auc: 0.600662 Maps: 0.720672 Max-Auc: 0.598772 Max-Maps: 0.712051\n",
            "[2024-06-04 03:24:45] {train.py:203} INFO - ***************** Epoch: 12 Max Auc: 0.600662 Maps: 0.720672 *******************\n",
            "100% 545/545 [00:04<00:00, 112.99it/s]\n",
            "[2024-06-04 03:24:50] {train.py:147} INFO - Epoch:13 Overall loss: 0.174826 \n",
            "100% 234/234 [00:01<00:00, 177.04it/s]\n",
            "[2024-06-04 03:24:52] {train.py:192} INFO - Epoch: 13 Auc: 0.604365 Maps: 0.718038 Max-Auc: 0.600662 Max-Maps: 0.720672\n",
            "[2024-06-04 03:24:52] {train.py:203} INFO - ***************** Epoch: 13 Max Auc: 0.604365 Maps: 0.720672 *******************\n",
            "100% 545/545 [00:05<00:00, 98.17it/s]\n",
            "[2024-06-04 03:24:57] {train.py:147} INFO - Epoch:14 Overall loss: 0.173803 \n",
            "100% 234/234 [00:01<00:00, 174.89it/s]\n",
            "[2024-06-04 03:24:59] {train.py:192} INFO - Epoch: 14 Auc: 0.593681 Maps: 0.701562 Max-Auc: 0.604365 Max-Maps: 0.720672\n",
            "100% 545/545 [00:04<00:00, 110.12it/s]\n",
            "[2024-06-04 03:25:04] {train.py:147} INFO - Epoch:15 Overall loss: 0.173687 \n",
            "100% 234/234 [00:01<00:00, 162.07it/s]\n",
            "[2024-06-04 03:25:06] {train.py:192} INFO - Epoch: 15 Auc: 0.601891 Maps: 0.706348 Max-Auc: 0.604365 Max-Maps: 0.720672\n",
            "100% 545/545 [00:05<00:00, 103.50it/s]\n",
            "[2024-06-04 03:25:11] {train.py:147} INFO - Epoch:16 Overall loss: 0.172350 \n",
            "100% 234/234 [00:01<00:00, 177.43it/s]\n",
            "[2024-06-04 03:25:13] {train.py:192} INFO - Epoch: 16 Auc: 0.608301 Maps: 0.714577 Max-Auc: 0.604365 Max-Maps: 0.720672\n",
            "[2024-06-04 03:25:13] {train.py:203} INFO - ***************** Epoch: 16 Max Auc: 0.608301 Maps: 0.720672 *******************\n",
            "100% 545/545 [00:05<00:00, 105.15it/s]\n",
            "[2024-06-04 03:25:18] {train.py:147} INFO - Epoch:17 Overall loss: 0.171697 \n",
            "100% 234/234 [00:01<00:00, 146.80it/s]\n",
            "[2024-06-04 03:25:20] {train.py:192} INFO - Epoch: 17 Auc: 0.613966 Maps: 0.718000 Max-Auc: 0.608301 Max-Maps: 0.720672\n",
            "[2024-06-04 03:25:20] {train.py:203} INFO - ***************** Epoch: 17 Max Auc: 0.613966 Maps: 0.720672 *******************\n",
            "100% 545/545 [00:04<00:00, 113.46it/s]\n",
            "[2024-06-04 03:25:25] {train.py:147} INFO - Epoch:18 Overall loss: 0.171605 \n",
            "100% 234/234 [00:01<00:00, 175.91it/s]\n",
            "[2024-06-04 03:25:27] {train.py:192} INFO - Epoch: 18 Auc: 0.607455 Maps: 0.718943 Max-Auc: 0.613966 Max-Maps: 0.720672\n",
            "100% 545/545 [00:05<00:00, 103.10it/s]\n",
            "[2024-06-04 03:25:32] {train.py:147} INFO - Epoch:19 Overall loss: 0.171610 \n",
            "100% 234/234 [00:01<00:00, 152.87it/s]\n",
            "[2024-06-04 03:25:34] {train.py:192} INFO - Epoch: 19 Auc: 0.602903 Maps: 0.709539 Max-Auc: 0.613966 Max-Maps: 0.720672\n",
            "100% 545/545 [00:05<00:00, 108.76it/s]\n",
            "[2024-06-04 03:25:39] {train.py:147} INFO - Epoch:20 Overall loss: 0.172423 \n",
            "100% 234/234 [00:01<00:00, 175.83it/s]\n",
            "[2024-06-04 03:25:41] {train.py:192} INFO - Epoch: 20 Auc: 0.606407 Maps: 0.712410 Max-Auc: 0.613966 Max-Maps: 0.720672\n",
            "100% 545/545 [00:05<00:00, 98.25it/s] \n",
            "[2024-06-04 03:25:46] {train.py:147} INFO - Epoch:21 Overall loss: 0.170906 \n",
            "100% 234/234 [00:01<00:00, 176.68it/s]\n",
            "[2024-06-04 03:25:48] {train.py:192} INFO - Epoch: 21 Auc: 0.610464 Maps: 0.717536 Max-Auc: 0.613966 Max-Maps: 0.720672\n",
            "100% 545/545 [00:04<00:00, 109.49it/s]\n",
            "[2024-06-04 03:25:53] {train.py:147} INFO - Epoch:22 Overall loss: 0.170244 \n",
            "100% 234/234 [00:01<00:00, 171.74it/s]\n",
            "[2024-06-04 03:25:55] {train.py:192} INFO - Epoch: 22 Auc: 0.598278 Maps: 0.702780 Max-Auc: 0.613966 Max-Maps: 0.720672\n",
            "100% 545/545 [00:05<00:00, 96.91it/s] \n",
            "[2024-06-04 03:26:00] {train.py:147} INFO - Epoch:23 Overall loss: 0.169612 \n",
            "100% 234/234 [00:01<00:00, 175.60it/s]\n",
            "[2024-06-04 03:26:02] {train.py:192} INFO - Epoch: 23 Auc: 0.606330 Maps: 0.709541 Max-Auc: 0.613966 Max-Maps: 0.720672\n",
            "100% 545/545 [00:05<00:00, 104.38it/s]\n",
            "[2024-06-04 03:26:07] {train.py:147} INFO - Epoch:24 Overall loss: 0.171281 \n",
            "100% 234/234 [00:01<00:00, 172.50it/s]\n",
            "[2024-06-04 03:26:09] {train.py:192} INFO - Epoch: 24 Auc: 0.605977 Maps: 0.704794 Max-Auc: 0.613966 Max-Maps: 0.720672\n",
            "100% 545/545 [00:05<00:00, 100.17it/s]\n",
            "[2024-06-04 03:26:15] {train.py:147} INFO - Epoch:25 Overall loss: 0.170814 \n",
            "100% 234/234 [00:01<00:00, 175.23it/s]\n",
            "[2024-06-04 03:26:16] {train.py:192} INFO - Epoch: 25 Auc: 0.584245 Maps: 0.691878 Max-Auc: 0.613966 Max-Maps: 0.720672\n",
            "100% 545/545 [00:04<00:00, 111.53it/s]\n",
            "[2024-06-04 03:26:21] {train.py:147} INFO - Epoch:26 Overall loss: 0.170607 \n",
            "100% 234/234 [00:01<00:00, 160.55it/s]\n",
            "[2024-06-04 03:26:23] {train.py:192} INFO - Epoch: 26 Auc: 0.601320 Maps: 0.709255 Max-Auc: 0.613966 Max-Maps: 0.720672\n",
            "100% 545/545 [00:05<00:00, 103.34it/s]\n",
            "[2024-06-04 03:26:28] {train.py:147} INFO - Epoch:27 Overall loss: 0.170054 \n",
            "100% 234/234 [00:01<00:00, 173.98it/s]\n",
            "[2024-06-04 03:26:30] {train.py:192} INFO - Epoch: 27 Auc: 0.604982 Maps: 0.710613 Max-Auc: 0.613966 Max-Maps: 0.720672\n",
            "Early stop!\n",
            "[2024-06-04 03:26:30] {train.py:213} INFO - ***************** Max_Epoch: 17 Max Auc: 0.613966 Maps: 0.720672*******************\n",
            "100% 370/370 [00:02<00:00, 132.13it/s]\n"
          ]
        }
      ]
    },
    {
      "cell_type": "markdown",
      "source": [
        "Download the results\n"
      ],
      "metadata": {
        "id": "JMlkUqEtR2Ce"
      }
    },
    {
      "cell_type": "code",
      "source": [
        "from google.colab import files\n",
        "files.download('saved_model/res.json')"
      ],
      "metadata": {
        "colab": {
          "base_uri": "https://localhost:8080/",
          "height": 17
        },
        "id": "b5nseqOmOvIX",
        "outputId": "7ff158fb-7d7d-4586-88f3-fbe5ea056a48"
      },
      "execution_count": null,
      "outputs": [
        {
          "output_type": "display_data",
          "data": {
            "text/plain": [
              "<IPython.core.display.Javascript object>"
            ],
            "application/javascript": [
              "\n",
              "    async function download(id, filename, size) {\n",
              "      if (!google.colab.kernel.accessAllowed) {\n",
              "        return;\n",
              "      }\n",
              "      const div = document.createElement('div');\n",
              "      const label = document.createElement('label');\n",
              "      label.textContent = `Downloading \"${filename}\": `;\n",
              "      div.appendChild(label);\n",
              "      const progress = document.createElement('progress');\n",
              "      progress.max = size;\n",
              "      div.appendChild(progress);\n",
              "      document.body.appendChild(div);\n",
              "\n",
              "      const buffers = [];\n",
              "      let downloaded = 0;\n",
              "\n",
              "      const channel = await google.colab.kernel.comms.open(id);\n",
              "      // Send a message to notify the kernel that we're ready.\n",
              "      channel.send({})\n",
              "\n",
              "      for await (const message of channel.messages) {\n",
              "        // Send a message to notify the kernel that we're ready.\n",
              "        channel.send({})\n",
              "        if (message.buffers) {\n",
              "          for (const buffer of message.buffers) {\n",
              "            buffers.push(buffer);\n",
              "            downloaded += buffer.byteLength;\n",
              "            progress.value = downloaded;\n",
              "          }\n",
              "        }\n",
              "      }\n",
              "      const blob = new Blob(buffers, {type: 'application/binary'});\n",
              "      const a = document.createElement('a');\n",
              "      a.href = window.URL.createObjectURL(blob);\n",
              "      a.download = filename;\n",
              "      div.appendChild(a);\n",
              "      a.click();\n",
              "      div.remove();\n",
              "    }\n",
              "  "
            ]
          },
          "metadata": {}
        },
        {
          "output_type": "display_data",
          "data": {
            "text/plain": [
              "<IPython.core.display.Javascript object>"
            ],
            "application/javascript": [
              "download(\"download_3c7eefa0-4cbe-4426-96ff-c6bbd6936f6b\", \"res.json\", 1988814)"
            ]
          },
          "metadata": {}
        }
      ]
    }
  ]
}